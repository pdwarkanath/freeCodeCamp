{
 "cells": [
  {
   "cell_type": "code",
   "execution_count": 1,
   "metadata": {},
   "outputs": [],
   "source": [
    "import json"
   ]
  },
  {
   "cell_type": "code",
   "execution_count": 3,
   "metadata": {},
   "outputs": [
    {
     "name": "stdout",
     "output_type": "stream",
     "text": [
      " Volume in drive C has no label.\n",
      " Volume Serial Number is 7A30-CDB1\n",
      "\n",
      " Directory of C:\\freeCodeCamp\n",
      "\n",
      "01/06/2019  12:44 AM    <DIR>          .\n",
      "01/06/2019  12:44 AM    <DIR>          ..\n",
      "01/03/2019  07:30 PM                21 .gitignore\n",
      "01/05/2019  01:09 AM    <DIR>          .ipynb_checkpoints\n",
      "01/05/2019  01:09 AM             1,765 basic-css-id.html\n",
      "01/05/2019  09:43 PM               367 basic-css-override.html\n",
      "01/05/2019  09:25 PM               708 basic-css-padding-margin.html\n",
      "01/05/2019  01:09 AM             1,034 basic-html5-nest.html\n",
      "01/03/2019  07:05 PM             1,051 nest-many-elements-within-a-single-div-element.json\n",
      "01/05/2019  09:42 PM               354 override-all-other-styles-by-using-important.json\n",
      "01/03/2019  07:38 PM                96 README.md\n",
      "01/05/2019  01:01 AM             1,798 use-an-id-attribute-to-style-an-element.json\n",
      "01/05/2019  09:23 PM               697 use-clockwise-notation-to-specify-the-margin-of-an-element.json\n",
      "01/06/2019  12:40 AM             3,858 use-css-variables-to-change-several-elements-at-once.json\n",
      "01/06/2019  12:44 AM             3,862 writeToHTML.ipynb\n",
      "              12 File(s)         15,611 bytes\n",
      "               3 Dir(s)  374,874,099,712 bytes free\n"
     ]
    }
   ],
   "source": [
    "!dir"
   ]
  },
  {
   "cell_type": "code",
   "execution_count": 6,
   "metadata": {},
   "outputs": [],
   "source": [
    "read_file = 'use-css-variables-to-change-several-elements-at-once.json'\n",
    "write_file = 'basic-css-variables.html'"
   ]
  },
  {
   "cell_type": "code",
   "execution_count": 8,
   "metadata": {},
   "outputs": [],
   "source": [
    "def write_html(read_file, write_file):\n",
    "    with open(read_file) as f:\n",
    "        x = json.load(f)\n",
    "    with open(write_file, 'w') as f:\n",
    "        f.write('<html>\\n<body>\\n'+x['index.html']+'\\n</body>\\n</html>\\n')"
   ]
  },
  {
   "cell_type": "code",
   "execution_count": 9,
   "metadata": {},
   "outputs": [],
   "source": [
    "write_html(read_file, write_file)"
   ]
  },
  {
   "cell_type": "code",
   "execution_count": null,
   "metadata": {},
   "outputs": [],
   "source": []
  }
 ],
 "metadata": {
  "kernelspec": {
   "display_name": "Python 3",
   "language": "python",
   "name": "python3"
  },
  "language_info": {
   "codemirror_mode": {
    "name": "ipython",
    "version": 3
   },
   "file_extension": ".py",
   "mimetype": "text/x-python",
   "name": "python",
   "nbconvert_exporter": "python",
   "pygments_lexer": "ipython3",
   "version": "3.6.5"
  }
 },
 "nbformat": 4,
 "nbformat_minor": 2
}
