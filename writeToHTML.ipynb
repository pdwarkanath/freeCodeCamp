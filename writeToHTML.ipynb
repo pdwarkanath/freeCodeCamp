{
 "cells": [
  {
   "cell_type": "code",
   "execution_count": 1,
   "metadata": {},
   "outputs": [],
   "source": [
    "import json"
   ]
  },
  {
   "cell_type": "code",
   "execution_count": 2,
   "metadata": {},
   "outputs": [
    {
     "name": "stdout",
     "output_type": "stream",
     "text": [
      " Volume in drive C has no label.\n",
      " Volume Serial Number is 7A30-CDB1\n",
      "\n",
      " Directory of C:\\freeCodeCamp\n",
      "\n",
      "01/05/2019  09:23 PM    <DIR>          .\n",
      "01/05/2019  09:23 PM    <DIR>          ..\n",
      "01/03/2019  07:30 PM                21 .gitignore\n",
      "01/05/2019  01:09 AM    <DIR>          .ipynb_checkpoints\n",
      "01/05/2019  01:09 AM             1,765 basic-css-id.html\n",
      "01/05/2019  01:09 AM             1,034 basic-html5-nest.html\n",
      "01/03/2019  07:05 PM             1,051 nest-many-elements-within-a-single-div-element.json\n",
      "01/03/2019  07:38 PM                96 README.md\n",
      "01/05/2019  01:01 AM             1,798 use-an-id-attribute-to-style-an-element.json\n",
      "01/05/2019  09:23 PM               697 use-clockwise-notation-to-specify-the-margin-of-an-element.json\n",
      "01/05/2019  01:09 AM             2,565 writeToHTML.ipynb\n",
      "               8 File(s)          9,027 bytes\n",
      "               3 Dir(s)  375,245,279,232 bytes free\n"
     ]
    }
   ],
   "source": [
    "!dir"
   ]
  },
  {
   "cell_type": "code",
   "execution_count": 3,
   "metadata": {},
   "outputs": [],
   "source": [
    "filename = 'use-clockwise-notation-to-specify-the-margin-of-an-element.json'"
   ]
  },
  {
   "cell_type": "code",
   "execution_count": 4,
   "metadata": {},
   "outputs": [],
   "source": [
    "with open(filename) as f:\n",
    "    x = json.load(f)"
   ]
  },
  {
   "cell_type": "code",
   "execution_count": 5,
   "metadata": {},
   "outputs": [],
   "source": [
    "write_file = 'basic-css-padding-margin.html'"
   ]
  },
  {
   "cell_type": "code",
   "execution_count": 6,
   "metadata": {},
   "outputs": [],
   "source": [
    "with open(write_file, 'w') as f:\n",
    "    f.write('<html>\\n<body>\\n'+x['index.html']+'\\n</body>\\n</html>\\n')"
   ]
  },
  {
   "cell_type": "code",
   "execution_count": 8,
   "metadata": {},
   "outputs": [
    {
     "name": "stdout",
     "output_type": "stream",
     "text": [
      "<style>\n",
      "  .injected-text {\n",
      "    margin-bottom: -25px;\n",
      "    text-align: center;\n",
      "  }\n",
      "\n",
      "  .box {\n",
      "    border-style: solid;\n",
      "    border-color: black;\n",
      "    border-width: 5px;\n",
      "    text-align: center;\n",
      "  }\n",
      "\n",
      "  .yellow-box {\n",
      "    background-color: yellow;\n",
      "    padding: 20px 40px 20px 40px;\n",
      "  }\n",
      "  \n",
      "  .red-box {\n",
      "    background-color: crimson;\n",
      "    color: #fff;\n",
      "    margin: 20px 40px 20px 40px;\n",
      "  }\n",
      "\n",
      "  .blue-box {\n",
      "    background-color: blue;\n",
      "    color: #fff;\n",
      "    margin: 40px 20px 20px 40px;\n",
      "  }\n",
      "</style>\n",
      "<h5 class=\"injected-text\">margin</h5>\n",
      "\n",
      "<div class=\"box yellow-box\">\n",
      "  <h5 class=\"box red-box\">padding</h5>\n",
      "  <h5 class=\"box blue-box\">padding</h5>\n",
      "</div>\n"
     ]
    }
   ],
   "source": [
    "print(x['index.html'])"
   ]
  },
  {
   "cell_type": "code",
   "execution_count": null,
   "metadata": {},
   "outputs": [],
   "source": []
  }
 ],
 "metadata": {
  "kernelspec": {
   "display_name": "Python 3",
   "language": "python",
   "name": "python3"
  },
  "language_info": {
   "codemirror_mode": {
    "name": "ipython",
    "version": 3
   },
   "file_extension": ".py",
   "mimetype": "text/x-python",
   "name": "python",
   "nbconvert_exporter": "python",
   "pygments_lexer": "ipython3",
   "version": "3.6.5"
  }
 },
 "nbformat": 4,
 "nbformat_minor": 2
}
