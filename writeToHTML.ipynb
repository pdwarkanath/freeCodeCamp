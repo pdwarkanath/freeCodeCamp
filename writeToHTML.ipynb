{
 "cells": [
  {
   "cell_type": "code",
   "execution_count": 1,
   "metadata": {},
   "outputs": [],
   "source": [
    "import json"
   ]
  },
  {
   "cell_type": "code",
   "execution_count": 2,
   "metadata": {},
   "outputs": [
    {
     "name": "stdout",
     "output_type": "stream",
     "text": [
      " Volume in drive C has no label.\n",
      " Volume Serial Number is 7A30-CDB1\n",
      "\n",
      " Directory of C:\\freeCodeCamp\n",
      "\n",
      "01/30/2019  10:42 PM    <DIR>          .\n",
      "01/30/2019  10:42 PM    <DIR>          ..\n",
      "01/03/2019  07:30 PM                21 .gitignore\n",
      "01/05/2019  01:09 AM    <DIR>          .ipynb_checkpoints\n",
      "02/12/2019  05:20 AM    <DIR>          challenges\n",
      "02/01/2019  03:29 AM    <DIR>          projects\n",
      "02/01/2019  03:37 AM             1,473 README.md\n",
      "01/15/2019  10:37 AM             6,348 writeToHTML.ipynb\n",
      "               3 File(s)          7,842 bytes\n",
      "               5 Dir(s)  375,813,435,392 bytes free\n"
     ]
    }
   ],
   "source": [
    "!dir"
   ]
  },
  {
   "cell_type": "code",
   "execution_count": 7,
   "metadata": {},
   "outputs": [],
   "source": [
    "read_file = 'challenges/javascript/bs-counting-cards.json'\n",
    "write_file = 'challenges/javascript/bs-counting-cards.html'"
   ]
  },
  {
   "cell_type": "code",
   "execution_count": 12,
   "metadata": {},
   "outputs": [],
   "source": [
    "def write_html(read_file, write_file):\n",
    "    with open(read_file) as f:\n",
    "        x = json.load(f)\n",
    "    with open(write_file, 'w') as f:\n",
    "        f.write('<html>\\n<body>\\n<script>\\n'+x['index.js']+'\\n</script>\\n</body>\\n</html>\\n')"
   ]
  },
  {
   "cell_type": "code",
   "execution_count": 13,
   "metadata": {},
   "outputs": [],
   "source": [
    "write_html(read_file, write_file)"
   ]
  },
  {
   "cell_type": "code",
   "execution_count": 4,
   "metadata": {},
   "outputs": [],
   "source": [
    "with open() as f:\n",
    "    x = json.load(f)"
   ]
  },
  {
   "cell_type": "code",
   "execution_count": 6,
   "metadata": {},
   "outputs": [
    {
     "name": "stdout",
     "output_type": "stream",
     "text": [
      "{'index.js': 'var count = 0;\\n\\nfunction cc(card) {\\n  // Only change code below this line\\n  switch (card) {\\n    case 2:\\n    case 3:\\n    case 4:\\n    case 5:\\n    case 6:\\n      count++;\\n      break;\\n    case 7:\\n    case 8:\\n    case 9:\\n      break;\\n    case 10:\\n    case \\'J\\':\\n    case \\'Q\\':\\n    case \\'K\\':\\n    case \\'A\\':\\n      count--;\\n  }\\n  \\n  if (count > 0) {\\n    return count + \" Bet\";\\n  } else {\\n    return count + \" Hold\";\\n  }\\n  // Only change code above this line\\n}\\n\\n// Add/remove calls to test your function.\\n// Note: Only the last will display\\ncc(2); cc(3); cc(7); cc(\\'K\\'); cc(\\'A\\');'}\n"
     ]
    }
   ],
   "source": [
    "print(x)"
   ]
  },
  {
   "cell_type": "code",
   "execution_count": null,
   "metadata": {},
   "outputs": [],
   "source": []
  }
 ],
 "metadata": {
  "kernelspec": {
   "display_name": "Python 3",
   "language": "python",
   "name": "python3"
  },
  "language_info": {
   "codemirror_mode": {
    "name": "ipython",
    "version": 3
   },
   "file_extension": ".py",
   "mimetype": "text/x-python",
   "name": "python",
   "nbconvert_exporter": "python",
   "pygments_lexer": "ipython3",
   "version": "3.6.5"
  }
 },
 "nbformat": 4,
 "nbformat_minor": 2
}
