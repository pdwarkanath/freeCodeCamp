{
 "cells": [
  {
   "cell_type": "code",
   "execution_count": 1,
   "metadata": {},
   "outputs": [],
   "source": [
    "import json"
   ]
  },
  {
   "cell_type": "code",
   "execution_count": 2,
   "metadata": {},
   "outputs": [
    {
     "name": "stdout",
     "output_type": "stream",
     "text": [
      " Volume in drive C has no label.\n",
      " Volume Serial Number is 7A30-CDB1\n",
      "\n",
      " Directory of C:\\freeCodeCamp\n",
      "\n",
      "01/10/2019  05:59 AM    <DIR>          .\n",
      "01/10/2019  05:59 AM    <DIR>          ..\n",
      "01/03/2019  07:30 PM                21 .gitignore\n",
      "01/05/2019  01:09 AM    <DIR>          .ipynb_checkpoints\n",
      "01/09/2019  03:59 AM               617 avd-css-create-shape.html\n",
      "01/09/2019  03:58 AM               471 avd-css-keyframes-animation.html\n",
      "01/07/2019  01:22 AM               557 avd-font-weight.html\n",
      "01/07/2019  01:13 AM             1,218 avd-text-transform.html\n",
      "01/05/2019  01:09 AM             1,765 basic-css-id.html\n",
      "01/05/2019  09:43 PM               367 basic-css-override.html\n",
      "01/05/2019  09:25 PM               708 basic-css-padding-margin.html\n",
      "01/06/2019  12:46 AM             3,841 basic-css-variables.html\n",
      "01/05/2019  01:09 AM             1,034 basic-html5-nest.html\n",
      "01/10/2019  05:59 AM               213 create-a-gradual-css-linear-gradient.json\n",
      "01/08/2019  11:01 PM               604 create-a-more-complex-shape-using-css-and-html.json\n",
      "01/10/2019  05:51 AM               704 learn-how-bezier-curves-work.json\n",
      "01/09/2019  03:08 AM               454 learn-how-the-css-keyframes-and-animation-properties-work.json\n",
      "01/10/2019  05:01 AM             1,283 make-a-css-heartbeat-using-an-infinite-animation-count.json\n",
      "01/10/2019  05:54 AM               757 make-motion-more-natural-using-a-bezier-curve.json\n",
      "01/03/2019  07:05 PM             1,051 nest-many-elements-within-a-single-div-element.json\n",
      "01/05/2019  09:42 PM               354 override-all-other-styles-by-using-important.json\n",
      "01/03/2019  07:38 PM                96 README.md\n",
      "01/07/2019  01:20 AM               538 set-the-font-weight-for-multiple-heading-elements.json\n",
      "01/05/2019  01:01 AM             1,798 use-an-id-attribute-to-style-an-element.json\n",
      "01/05/2019  09:23 PM               697 use-clockwise-notation-to-specify-the-margin-of-an-element.json\n",
      "01/06/2019  12:40 AM             3,858 use-css-variables-to-change-several-elements-at-once.json\n",
      "01/07/2019  01:03 AM             1,221 use-the-text-transform-property-to-make-text-uppercase.json\n",
      "01/09/2019  03:59 AM             3,880 writeToHTML.ipynb\n",
      "              25 File(s)         28,107 bytes\n",
      "               3 Dir(s)  376,075,300,864 bytes free\n"
     ]
    }
   ],
   "source": [
    "!dir"
   ]
  },
  {
   "cell_type": "code",
   "execution_count": 14,
   "metadata": {},
   "outputs": [],
   "source": [
    "read_file = 'make-motion-more-natural-using-a-bezier-curve.json'\n",
    "write_file = 'avd-css-bezier-curve.html'"
   ]
  },
  {
   "cell_type": "code",
   "execution_count": 15,
   "metadata": {},
   "outputs": [],
   "source": [
    "def write_html(read_file, write_file):\n",
    "    with open(read_file) as f:\n",
    "        x = json.load(f)\n",
    "    with open(write_file, 'w') as f:\n",
    "        f.write('<html>\\n<body>\\n'+x['index.html']+'\\n</body>\\n</html>\\n')"
   ]
  },
  {
   "cell_type": "code",
   "execution_count": 16,
   "metadata": {},
   "outputs": [],
   "source": [
    "write_html(read_file, write_file)"
   ]
  },
  {
   "cell_type": "code",
   "execution_count": null,
   "metadata": {},
   "outputs": [],
   "source": []
  }
 ],
 "metadata": {
  "kernelspec": {
   "display_name": "Python 3",
   "language": "python",
   "name": "python3"
  },
  "language_info": {
   "codemirror_mode": {
    "name": "ipython",
    "version": 3
   },
   "file_extension": ".py",
   "mimetype": "text/x-python",
   "name": "python",
   "nbconvert_exporter": "python",
   "pygments_lexer": "ipython3",
   "version": "3.6.5"
  }
 },
 "nbformat": 4,
 "nbformat_minor": 2
}
